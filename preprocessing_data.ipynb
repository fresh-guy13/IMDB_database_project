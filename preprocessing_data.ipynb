{
 "cells": [
  {
   "cell_type": "code",
   "execution_count": 3,
   "metadata": {},
   "outputs": [
    {
     "name": "stdout",
     "output_type": "stream",
     "text": [
      "['title.ratings.tsv', '.DS_Store', 'title.akas.tsv', 'name.basics.tsv', 'A.txt', 'title.basics.tsv', 'title.crew.tsv']\n"
     ]
    },
    {
     "name": "stderr",
     "output_type": "stream",
     "text": [
      "/Users/cvictor/opt/anaconda3/envs/torch1.5/lib/python3.8/site-packages/IPython/core/interactiveshell.py:3441: DtypeWarning: Columns (7) have mixed types.Specify dtype option on import or set low_memory=False.\n",
      "  exec(code_obj, self.user_global_ns, self.user_ns)\n"
     ]
    },
    {
     "name": "stdout",
     "output_type": "stream",
     "text": [
      "            titleId  ordering                       title region language  \\\n",
      "0         tt0000001         1        ÐÐ°ÑÐ¼ÐµÐ½ÑÑÑÐ°     UA       \\N   \n",
      "1         tt0000001         2                  Carmencita     DE       \\N   \n",
      "2         tt0000001         3  Carmencita - spanyol tÃ¡nc     HU       \\N   \n",
      "3         tt0000001         4        ÎÎ±ÏÎ¼ÎµÎ½ÏÎ¯ÏÎ±     GR       \\N   \n",
      "4         tt0000001         5        ÐÐ°ÑÐ¼ÐµÐ½ÑÐ¸ÑÐ°     RU       \\N   \n",
      "...             ...       ...                         ...    ...      ...   \n",
      "29185402  tt9916852         5             EpisÃ³dio #3.20     PT       pt   \n",
      "29185403  tt9916852         6              Episodio #3.20     IT       it   \n",
      "29185404  tt9916852         7    à¤à¤ªà¤¿à¤¸à¥à¤¡ #3.20     IN       hi   \n",
      "29185405  tt9916856         1                    The Wind     DE       \\N   \n",
      "29185406  tt9916856         2                    The Wind     \\N       \\N   \n",
      "\n",
      "                types     attributes isOriginalTitle  \n",
      "0         imdbDisplay             \\N               0  \n",
      "1                  \\N  literal title               0  \n",
      "2         imdbDisplay             \\N               0  \n",
      "3         imdbDisplay             \\N               0  \n",
      "4         imdbDisplay             \\N               0  \n",
      "...               ...            ...             ...  \n",
      "29185402           \\N             \\N               0  \n",
      "29185403           \\N             \\N               0  \n",
      "29185404           \\N             \\N               0  \n",
      "29185405  imdbDisplay             \\N               0  \n",
      "29185406     original             \\N               1  \n",
      "\n",
      "[29185407 rows x 8 columns]\n"
     ]
    }
   ],
   "source": [
    "import pandas as pd\n",
    "import os\n",
    "dir = os.listdir('../IMDB_data')\n",
    "\n",
    "\n",
    "ratings = pd.read_csv('./IMDB_data/'+dir[0], sep='\\t', encoding = \"ISO-8859-1\")\n",
    "# title.ratings.tsv\n",
    "# tconst\taverageRating\tnumVotes\n",
    "title_akas = pd.read_csv('./IMDB_data/'+dir[2], sep='\\t', encoding = \"ISO-8859-1\")\n",
    "# Attribute has str and\n",
    "# titleId\tordering\ttitle\tregion\tlanguage\ttypes\tattributes\tisOriginalTitle\n"
   ]
  },
  {
   "cell_type": "code",
   "execution_count": 4,
   "metadata": {},
   "outputs": [
    {
     "name": "stdout",
     "output_type": "stream",
     "text": [
      "             nconst         primaryName birthYear deathYear  \\\n",
      "0         nm0000001        Fred Astaire      1899      1987   \n",
      "1         nm0000002       Lauren Bacall      1924      2014   \n",
      "2         nm0000003     Brigitte Bardot      1934        \\N   \n",
      "3         nm0000004        John Belushi      1949      1982   \n",
      "4         nm0000005      Ingmar Bergman      1918      2007   \n",
      "...             ...                 ...       ...       ...   \n",
      "11241311  nm9993714   Romeo del Rosario        \\N        \\N   \n",
      "11241312  nm9993716       Essias Loberg        \\N        \\N   \n",
      "11241313  nm9993717  Harikrishnan Rajan        \\N        \\N   \n",
      "11241314  nm9993718         Aayush Nair        \\N        \\N   \n",
      "11241315  nm9993719          Andre Hill        \\N        \\N   \n",
      "\n",
      "                            primaryProfession  \\\n",
      "0              soundtrack,actor,miscellaneous   \n",
      "1                          actress,soundtrack   \n",
      "2         actress,soundtrack,music_department   \n",
      "3                     actor,soundtrack,writer   \n",
      "4                       writer,director,actor   \n",
      "...                                       ...   \n",
      "11241311  animation_department,art_department   \n",
      "11241312                                  NaN   \n",
      "11241313                      cinematographer   \n",
      "11241314                      cinematographer   \n",
      "11241315                                  NaN   \n",
      "\n",
      "                                   knownForTitles  \n",
      "0         tt0053137,tt0050419,tt0031983,tt0072308  \n",
      "1         tt0071877,tt0038355,tt0037382,tt0117057  \n",
      "2         tt0057345,tt0056404,tt0054452,tt0049189  \n",
      "3         tt0072562,tt0077975,tt0078723,tt0080455  \n",
      "4         tt0050986,tt0050976,tt0060827,tt0083922  \n",
      "...                                           ...  \n",
      "11241311                     tt2455546,tt11657662  \n",
      "11241312                                       \\N  \n",
      "11241313                                tt8736744  \n",
      "11241314                                       \\N  \n",
      "11241315                                       \\N  \n",
      "\n",
      "[11241316 rows x 6 columns]\n"
     ]
    }
   ],
   "source": [
    "name_basic  = pd.read_csv('./IMDB_data/'+\"name_basic.tsv\", sep='\\t', encoding = \"ISO-8859-1\")\n",
    "# nconst primaryName birthYear deathYear, primaryProfession\n",
    "print(name_basic)"
   ]
  },
  {
   "cell_type": "code",
   "execution_count": 7,
   "metadata": {},
   "outputs": [
    {
     "name": "stderr",
     "output_type": "stream",
     "text": [
      "/Users/cvictor/opt/anaconda3/envs/torch1.5/lib/python3.8/site-packages/IPython/core/interactiveshell.py:3441: DtypeWarning: Columns (4,5) have mixed types.Specify dtype option on import or set low_memory=False.\n",
      "  exec(code_obj, self.user_global_ns, self.user_ns)\n"
     ]
    },
    {
     "name": "stdout",
     "output_type": "stream",
     "text": [
      "            tconst  titleType               primaryTitle  \\\n",
      "0        tt0000001      short                 Carmencita   \n",
      "1        tt0000002      short     Le clown et ses chiens   \n",
      "2        tt0000003      short             Pauvre Pierrot   \n",
      "3        tt0000004      short                Un bon bock   \n",
      "4        tt0000005      short           Blacksmith Scene   \n",
      "...            ...        ...                        ...   \n",
      "8285157  tt9916848  tvEpisode              Episode #3.17   \n",
      "8285158  tt9916850  tvEpisode              Episode #3.19   \n",
      "8285159  tt9916852  tvEpisode              Episode #3.20   \n",
      "8285160  tt9916856      short                   The Wind   \n",
      "8285161  tt9916880  tvEpisode  Horrid Henry Knows It All   \n",
      "\n",
      "                     originalTitle isAdult startYear endYear runtimeMinutes  \\\n",
      "0                       Carmencita       0      1894      \\N              1   \n",
      "1           Le clown et ses chiens       0      1892      \\N              5   \n",
      "2                   Pauvre Pierrot       0      1892      \\N              4   \n",
      "3                      Un bon bock       0      1892      \\N             12   \n",
      "4                 Blacksmith Scene       0      1893      \\N              1   \n",
      "...                            ...     ...       ...     ...            ...   \n",
      "8285157              Episode #3.17       0      2010      \\N             \\N   \n",
      "8285158              Episode #3.19       0      2010      \\N             \\N   \n",
      "8285159              Episode #3.20       0      2010      \\N             \\N   \n",
      "8285160                   The Wind       0      2015      \\N             27   \n",
      "8285161  Horrid Henry Knows It All       0      2014      \\N             10   \n",
      "\n",
      "                           genres  \n",
      "0               Documentary,Short  \n",
      "1                 Animation,Short  \n",
      "2        Animation,Comedy,Romance  \n",
      "3                 Animation,Short  \n",
      "4                    Comedy,Short  \n",
      "...                           ...  \n",
      "8285157       Action,Drama,Family  \n",
      "8285158       Action,Drama,Family  \n",
      "8285159       Action,Drama,Family  \n",
      "8285160                     Short  \n",
      "8285161   Animation,Comedy,Family  \n",
      "\n",
      "[8285162 rows x 9 columns]\n"
     ]
    }
   ],
   "source": [
    "title_basic = pd.read_csv('./IMDB_data/'+dir[5], sep='\\t', encoding = \"ISO-8859-1\")\n",
    "print(title_basic)\n",
    "#title.basic\n",
    "# tconst\ttitleType\tprimaryTitle\toriginalTitle\tisAdult\tstartYear\tendYear\truntimeMinutes\tgenres\n",
    "# Having nan(float type!!!) on originalTitle and  isAdult has str/int type"
   ]
  },
  {
   "cell_type": "code",
   "execution_count": 51,
   "metadata": {},
   "outputs": [
    {
     "name": "stdout",
     "output_type": "stream",
     "text": [
      "tconst                    tt0000001\n",
      "titleType                     short\n",
      "primaryTitle             Carmencita\n",
      "originalTitle            Carmencita\n",
      "isAdult                           0\n",
      "startYear                      1894\n",
      "endYear                          \\N\n",
      "runtimeMinutes                    1\n",
      "genres            Documentary,Short\n",
      "Name: 0, dtype: object\n",
      "0\n"
     ]
    }
   ],
   "source": [
    "count = 0\n",
    "print(title_basic.iloc[0])\n",
    "for idx, i in enumerate(title_basic['isAdult']):\n",
    "    if type(i) != str:\n",
    "        count +=1\n",
    "        #title_basic.iloc[idx]['isAdult'] = str(title_basic.iloc[idx]['isAdult'])\n",
    "print(count)\n",
    "\n",
    "#print(title_basic['originalTitle'])"
   ]
  },
  {
   "cell_type": "code",
   "execution_count": 53,
   "metadata": {},
   "outputs": [],
   "source": [
    "title_basic.to_csv('./IMDB_data/title_basic.csv')"
   ]
  },
  {
   "cell_type": "code",
   "execution_count": null,
   "metadata": {},
   "outputs": [],
   "source": [
    "for idx, i in enumerate(title_basic['isAdult']):\n",
    "    if type(i) != str:\n",
    "        print(\"HI\")"
   ]
  },
  {
   "cell_type": "code",
   "execution_count": 8,
   "metadata": {},
   "outputs": [
    {
     "name": "stdout",
     "output_type": "stream",
     "text": [
      "            tconst            directors                        writers\n",
      "0        tt0000001            nm0005690                             \\N\n",
      "1        tt0000002            nm0721526                             \\N\n",
      "2        tt0000003            nm0721526                             \\N\n",
      "3        tt0000004            nm0721526                             \\N\n",
      "4        tt0000005            nm0005690                             \\N\n",
      "...            ...                  ...                            ...\n",
      "8285157  tt9916848  nm5519454,nm5519375  nm6182221,nm1628284,nm2921377\n",
      "8285158  tt9916850  nm5519375,nm5519454  nm6182221,nm1628284,nm2921377\n",
      "8285159  tt9916852  nm5519454,nm5519375  nm6182221,nm1628284,nm2921377\n",
      "8285160  tt9916856           nm10538645                      nm6951431\n",
      "8285161  tt9916880            nm0996406            nm1482639,nm2586970\n",
      "\n",
      "[8285162 rows x 3 columns]\n"
     ]
    }
   ],
   "source": [
    "title_crew = pd.read_csv('./IMDB_data/'+dir[6], sep='\\t', encoding = \"ISO-8859-1\")\n",
    "print(title_crew)"
   ]
  }
 ],
 "metadata": {
  "interpreter": {
   "hash": "7579331c971590dd311d2d2acbf86f2cf3f37f3666c876de32d10639d5004ced"
  },
  "kernelspec": {
   "display_name": "Python 3.8.11 64-bit ('torch1.5': conda)",
   "language": "python",
   "name": "python3"
  },
  "language_info": {
   "codemirror_mode": {
    "name": "ipython",
    "version": 3
   },
   "file_extension": ".py",
   "mimetype": "text/x-python",
   "name": "python",
   "nbconvert_exporter": "python",
   "pygments_lexer": "ipython3",
   "version": "3.8.11"
  },
  "orig_nbformat": 4
 },
 "nbformat": 4,
 "nbformat_minor": 2
}
